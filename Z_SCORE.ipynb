{
  "nbformat": 4,
  "nbformat_minor": 0,
  "metadata": {
    "colab": {
      "name": "Z SCORE.ipynb",
      "provenance": []
    },
    "kernelspec": {
      "name": "python3",
      "display_name": "Python 3"
    },
    "language_info": {
      "name": "python"
    }
  },
  "cells": [
    {
      "cell_type": "markdown",
      "source": [
        "## Import Libraries"
      ],
      "metadata": {
        "id": "AkxnnhVK1Z5A"
      }
    },
    {
      "cell_type": "code",
      "execution_count": 1,
      "metadata": {
        "id": "l7hBgSPu1Ivp"
      },
      "outputs": [],
      "source": [
        "import numpy as np\n",
        "import pandas as pd\n",
        "import scipy.stats as stats"
      ]
    },
    {
      "cell_type": "markdown",
      "source": [
        "## Create an array of values"
      ],
      "metadata": {
        "id": "oMPmo-3E2Lx2"
      }
    },
    {
      "cell_type": "code",
      "source": [
        "data = np.array([2,5,5,6,12,13,15,17,19,23])"
      ],
      "metadata": {
        "id": "VGIUuiwp1hU4"
      },
      "execution_count": 2,
      "outputs": []
    },
    {
      "cell_type": "markdown",
      "source": [
        "Claculate the z scores for each values in the arary,"
      ],
      "metadata": {
        "id": "FE7fGbjk2-6_"
      }
    },
    {
      "cell_type": "code",
      "source": [
        "stats.zscore(data)"
      ],
      "metadata": {
        "colab": {
          "base_uri": "https://localhost:8080/"
        },
        "id": "DyXhXNGk3LNu",
        "outputId": "ba8d28de-8790-4eaa-c3e7-b316ad24d73c"
      },
      "execution_count": 3,
      "outputs": [
        {
          "output_type": "execute_result",
          "data": {
            "text/plain": [
              "array([-1.46549759, -1.01225091, -1.01225091, -0.86116869,  0.04532467,\n",
              "        0.19640689,  0.49857134,  0.80073579,  1.10290025,  1.70722915])"
            ]
          },
          "metadata": {},
          "execution_count": 3
        }
      ]
    },
    {
      "cell_type": "markdown",
      "source": [
        "Each z scores tells us how many standard deviations away an individual values is from the mean. e.g:\n",
        "the second value of\"5\" in the array is -1.012 standarad deviation below the mean. The fift value \"12\" in the array is 0.045 standarad devition above the mean and the last value \"23\" in the array is 1.707 datandard deviation above the mean.\n",
        "\n",
        "Z score normalization refers to the process of normalizing every value in a dataset such as that the mean of all the values is 0 and standarad deviation is 1."
      ],
      "metadata": {
        "id": "kCKoPd-e3m2G"
      }
    },
    {
      "cell_type": "code",
      "source": [
        ""
      ],
      "metadata": {
        "id": "GfK4K-cT5nC8"
      },
      "execution_count": null,
      "outputs": []
    }
  ]
}